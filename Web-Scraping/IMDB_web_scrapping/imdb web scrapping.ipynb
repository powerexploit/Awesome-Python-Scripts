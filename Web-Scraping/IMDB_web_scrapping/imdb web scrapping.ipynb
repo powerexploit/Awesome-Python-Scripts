{
 "metadata": {
  "language_info": {
   "codemirror_mode": {
    "name": "ipython",
    "version": 3
   },
   "file_extension": ".py",
   "mimetype": "text/x-python",
   "name": "python",
   "nbconvert_exporter": "python",
   "pygments_lexer": "ipython3",
   "version": "3.7.6-final"
  },
  "orig_nbformat": 2,
  "kernelspec": {
   "name": "python_defaultSpec_1598089044863",
   "display_name": "Python 3.7.6 64-bit ('base': conda)"
  }
 },
 "nbformat": 4,
 "nbformat_minor": 2,
 "cells": [
  {
   "cell_type": "code",
   "execution_count": 1,
   "metadata": {
    "tags": []
   },
   "outputs": [
    {
     "output_type": "stream",
     "name": "stdout",
     "text": "\n \n\n\n\n\n\n\n\n\n\n\n<!DOCTYPE html>\n<html\n    xmlns:og=\"http://ogp.me/ns#\"\n    xmlns:fb=\"http://www.facebook.com/2008/fbml\">\n    <head>\n         \n        <meta charset=\"utf-8\">\n        <meta http-equiv=\"X-UA-Compatible\" content=\"IE=edge\">\n\n    <meta name=\"apple-itunes-app\" content=\"app-id=342792525, app-argument=imdb:///title/tt0944947?src=mdot\">\n\n\n\n     \n"
    }
   ],
   "source": [
    "# Scraping IMDB website using Python \n",
    "\n",
    "#If the data you’re looking for is on an web page, however, then the solution to all these problems is web scraping.\n",
    "# We will scrap the all the Game of thrones episodes from the IMDB website.\n",
    "# Importing required libraries and modules\n",
    "# Using the IMDB website \n",
    "from requests import get\n",
    "url = 'https://www.imdb.com/title/tt0944947/episodes?season=8'\n",
    "response = get(url)\n",
    "print(response.text[:350])\n",
    "# Requesting from the server the content of the web page by using get(), and store the server’s response in the variable response."
   ]
  },
  {
   "cell_type": "code",
   "execution_count": 2,
   "metadata": {},
   "outputs": [],
   "source": [
    "# View the website by inspecting element o0r just by pressing f12 for better understanding. "
   ]
  },
  {
   "cell_type": "code",
   "execution_count": 3,
   "metadata": {},
   "outputs": [],
   "source": [
    "# Parsing response.text by creating a BeautifulSoup object, and assign this object to html_soup. The html.parser argument indicates that we want to do the parsing using Python’s built-in HTML parser.\n",
    "from bs4 import BeautifulSoup\n",
    "html_soup = BeautifulSoup(response.text, 'html.parser')"
   ]
  },
  {
   "cell_type": "code",
   "execution_count": 4,
   "metadata": {},
   "outputs": [],
   "source": [
    "# Ignoring warning\n",
    "import warnings\n",
    "warnings.filterwarnings('ignore')"
   ]
  },
  {
   "cell_type": "code",
   "execution_count": 5,
   "metadata": {},
   "outputs": [],
   "source": [
    "# We will grab all of the instances of <div class=\"info\" ...> </div> from the page; there is one for each episode.\n",
    "# find_all() returned a ResultSet object –episode_containers– which is a list containing all the DIV tags.\n",
    "episode_containers = html_soup.find_all('div', class_='info')"
   ]
  },
  {
   "cell_type": "code",
   "execution_count": 6,
   "metadata": {},
   "outputs": [
    {
     "output_type": "execute_result",
     "data": {
      "text/plain": "'Winterfell'"
     },
     "metadata": {},
     "execution_count": 6
    }
   ],
   "source": [
    "# The HTML attributes are the dictionary’s keys. The values of the HTML attributes are the values of the dictionary’s keys.\n",
    "# Extracting Title of Episodes by calling title attribute from the <a> tag.\n",
    "episode_containers[0].a['title']"
   ]
  },
  {
   "cell_type": "code",
   "execution_count": 7,
   "metadata": {},
   "outputs": [
    {
     "output_type": "execute_result",
     "data": {
      "text/plain": "'1'"
     },
     "metadata": {},
     "execution_count": 7
    }
   ],
   "source": [
    "# Episode number in the <meta> tag, under the content attribute. \n",
    "episode_containers[0].meta['content']"
   ]
  },
  {
   "cell_type": "code",
   "execution_count": 8,
   "metadata": {},
   "outputs": [
    {
     "output_type": "execute_result",
     "data": {
      "text/plain": "'15 Apr. 2019'"
     },
     "metadata": {},
     "execution_count": 8
    }
   ],
   "source": [
    "# Extracting Airdate of episodes\n",
    "episode_containers[0].find('div', class_='airdate').text.strip()"
   ]
  },
  {
   "cell_type": "code",
   "execution_count": 9,
   "metadata": {
    "tags": []
   },
   "outputs": [
    {
     "output_type": "execute_result",
     "data": {
      "text/plain": "'7.5'"
     },
     "metadata": {},
     "execution_count": 9
    }
   ],
   "source": [
    "# Extracting IMDB Rating of episodes\n",
    "episode_containers[0].find('span', class_='ipl-rating-star__rating').text"
   ]
  },
  {
   "cell_type": "code",
   "execution_count": 10,
   "metadata": {},
   "outputs": [
    {
     "output_type": "execute_result",
     "data": {
      "text/plain": "'(123,184)'"
     },
     "metadata": {},
     "execution_count": 10
    }
   ],
   "source": [
    "episode_containers[0].find('span', class_='ipl-rating-star__total-votes').text"
   ]
  },
  {
   "cell_type": "code",
   "execution_count": 11,
   "metadata": {},
   "outputs": [
    {
     "output_type": "execute_result",
     "data": {
      "text/plain": "'Jon and Daenerys arrive in Winterfell and are met with skepticism. Sam learns about the fate of his family. Cersei gives Euron the reward he aims for. Theon follows his heart.'"
     },
     "metadata": {},
     "execution_count": 11
    }
   ],
   "source": [
    "# Extracting Episode description.\n",
    "episode_containers[0].find('div', class_='item_description').text.strip()"
   ]
  },
  {
   "cell_type": "code",
   "execution_count": 12,
   "metadata": {},
   "outputs": [],
   "source": [
    "# declaration of list\n",
    "community_episodes = []\n",
    "\n",
    "# For every season in the series -range depends on the show\n",
    "for sn in range(1,9):\n",
    "    # Request from the server the content of the web page by using get(), and store the server’s response in the variable response, just as we did earlier.\n",
    "    response = get('https://www.imdb.com/title/tt0944947/episodes?season=' + str(sn))\n",
    "\n",
    "    # Parse the content of the request with BeautifulSoup\n",
    "    page_html = BeautifulSoup(response.text, 'html.parser')\n",
    "\n",
    "    # Select all the episode containers from the season's page\n",
    "    episode_containers = page_html.find_all('div', class_ = 'info')\n",
    "\n",
    "    # For each episode in each season\n",
    "    for episodes in episode_containers:\n",
    "            # Getting the info of each episode on the page\n",
    "            season = sn\n",
    "            episode_number = episodes.meta['content']\n",
    "            title = episodes.a['title']\n",
    "            airdate = episodes.find('div', class_='airdate').text.strip()\n",
    "            rating = episodes.find('span', class_='ipl-rating-star__rating').text\n",
    "            total_votes = episodes.find('span', class_='ipl-rating-star__total-votes').text\n",
    "            desc = episodes.find('div', class_='item_description').text.strip()\n",
    "            # Compiling the episode info\n",
    "            episode_data = [season, episode_number, title, airdate, rating, total_votes, desc]\n",
    "\n",
    "            # Append the episode info to the complete dataset\n",
    "            community_episodes.append(episode_data)"
   ]
  },
  {
   "cell_type": "code",
   "execution_count": 13,
   "metadata": {},
   "outputs": [
    {
     "output_type": "execute_result",
     "data": {
      "text/plain": "   season episode_number                                  title       airdate  \\\n0       1              1                       Winter Is Coming  22 Aug. 2011   \n1       1              2                          The Kingsroad  22 Aug. 2011   \n2       1              3                              Lord Snow    1 May 2011   \n3       1              4  Cripples, Bastards, and Broken Things    8 May 2011   \n4       1              5                  The Wolf and the Lion   15 May 2011   \n\n  rating total_votes                                               desc  \n0    9.1    (39,455)  Eddard Stark is torn between his family and an...  \n1    8.8    (29,932)  While Bran recovers from his fall, Ned takes o...  \n2    8.7    (28,306)  Jon begins his training with the Night's Watch...  \n3    8.8    (26,861)  Eddard investigates Jon Arryn's murder. Jon be...  \n4    9.1    (27,945)  Catelyn has captured Tyrion and plans to bring...  ",
      "text/html": "<div>\n<style scoped>\n    .dataframe tbody tr th:only-of-type {\n        vertical-align: middle;\n    }\n\n    .dataframe tbody tr th {\n        vertical-align: top;\n    }\n\n    .dataframe thead th {\n        text-align: right;\n    }\n</style>\n<table border=\"1\" class=\"dataframe\">\n  <thead>\n    <tr style=\"text-align: right;\">\n      <th></th>\n      <th>season</th>\n      <th>episode_number</th>\n      <th>title</th>\n      <th>airdate</th>\n      <th>rating</th>\n      <th>total_votes</th>\n      <th>desc</th>\n    </tr>\n  </thead>\n  <tbody>\n    <tr>\n      <th>0</th>\n      <td>1</td>\n      <td>1</td>\n      <td>Winter Is Coming</td>\n      <td>22 Aug. 2011</td>\n      <td>9.1</td>\n      <td>(39,455)</td>\n      <td>Eddard Stark is torn between his family and an...</td>\n    </tr>\n    <tr>\n      <th>1</th>\n      <td>1</td>\n      <td>2</td>\n      <td>The Kingsroad</td>\n      <td>22 Aug. 2011</td>\n      <td>8.8</td>\n      <td>(29,932)</td>\n      <td>While Bran recovers from his fall, Ned takes o...</td>\n    </tr>\n    <tr>\n      <th>2</th>\n      <td>1</td>\n      <td>3</td>\n      <td>Lord Snow</td>\n      <td>1 May 2011</td>\n      <td>8.7</td>\n      <td>(28,306)</td>\n      <td>Jon begins his training with the Night's Watch...</td>\n    </tr>\n    <tr>\n      <th>3</th>\n      <td>1</td>\n      <td>4</td>\n      <td>Cripples, Bastards, and Broken Things</td>\n      <td>8 May 2011</td>\n      <td>8.8</td>\n      <td>(26,861)</td>\n      <td>Eddard investigates Jon Arryn's murder. Jon be...</td>\n    </tr>\n    <tr>\n      <th>4</th>\n      <td>1</td>\n      <td>5</td>\n      <td>The Wolf and the Lion</td>\n      <td>15 May 2011</td>\n      <td>9.1</td>\n      <td>(27,945)</td>\n      <td>Catelyn has captured Tyrion and plans to bring...</td>\n    </tr>\n  </tbody>\n</table>\n</div>"
     },
     "metadata": {},
     "execution_count": 13
    }
   ],
   "source": [
    "# Creating a dataFrame to gather all info at one place.\n",
    "import pandas as pd \n",
    "community_episodes = pd.DataFrame(community_episodes, columns = ['season', 'episode_number', 'title', 'airdate', 'rating', 'total_votes', 'desc'])\n",
    "# Viewing the Dataframe\n",
    "community_episodes.head()"
   ]
  },
  {
   "cell_type": "code",
   "execution_count": 14,
   "metadata": {},
   "outputs": [
    {
     "output_type": "execute_result",
     "data": {
      "text/plain": "array(['(39,455)', '(29,932)', '(28,306)', '(26,861)', '(27,945)',\n       '(27,658)', '(28,154)', '(26,221)', '(36,994)', '(32,464)',\n       '(25,364)', '(23,961)', '(23,682)', '(22,913)', '(23,098)',\n       '(24,126)', '(23,501)', '(23,220)', '(40,400)', '(28,657)',\n       '(25,293)', '(22,941)', '(23,162)', '(31,552)', '(23,603)',\n       '(23,473)', '(22,700)', '(23,279)', '(88,286)', '(26,339)',\n       '(29,789)', '(46,567)', '(25,187)', '(24,202)', '(23,426)',\n       '(43,086)', '(26,063)', '(46,681)', '(39,389)', '(38,703)',\n       '(26,531)', '(23,474)', '(22,748)', '(23,347)', '(23,624)',\n       '(26,716)', '(25,774)', '(88,195)', '(38,720)', '(37,539)',\n       '(36,370)', '(42,744)', '(30,560)', '(32,883)', '(64,349)',\n       '(30,376)', '(29,503)', '(33,560)', '(186,896)', '(130,185)',\n       '(46,837)', '(40,454)', '(42,181)', '(79,926)', '(40,236)',\n       '(58,686)', '(58,258)', '(123,184)', '(121,360)', '(202,165)',\n       '(154,373)', '(179,760)', '(224,197)'], dtype=object)"
     },
     "metadata": {},
     "execution_count": 14
    }
   ],
   "source": [
    "# Now time for some Data cleaning.\n",
    "# As you can see th etotal votes is extracted with the parentheses,so we need to remove that.\n",
    "community_episodes['total_votes'].unique()"
   ]
  },
  {
   "cell_type": "code",
   "execution_count": 15,
   "metadata": {},
   "outputs": [],
   "source": [
    "# function to remove parenthese\n",
    "def remove_str(votes):\n",
    "    for r in ((',',''), ('(',''),(')','')):\n",
    "        votes = votes.replace(*r)\n",
    "        \n",
    "    return votes"
   ]
  },
  {
   "cell_type": "code",
   "execution_count": 16,
   "metadata": {},
   "outputs": [
    {
     "output_type": "execute_result",
     "data": {
      "text/plain": "   season episode_number                                  title       airdate  \\\n0       1              1                       Winter Is Coming  22 Aug. 2011   \n1       1              2                          The Kingsroad  22 Aug. 2011   \n2       1              3                              Lord Snow    1 May 2011   \n3       1              4  Cripples, Bastards, and Broken Things    8 May 2011   \n4       1              5                  The Wolf and the Lion   15 May 2011   \n\n  rating  total_votes                                               desc  \n0    9.1        39455  Eddard Stark is torn between his family and an...  \n1    8.8        29932  While Bran recovers from his fall, Ned takes o...  \n2    8.7        28306  Jon begins his training with the Night's Watch...  \n3    8.8        26861  Eddard investigates Jon Arryn's murder. Jon be...  \n4    9.1        27945  Catelyn has captured Tyrion and plans to bring...  ",
      "text/html": "<div>\n<style scoped>\n    .dataframe tbody tr th:only-of-type {\n        vertical-align: middle;\n    }\n\n    .dataframe tbody tr th {\n        vertical-align: top;\n    }\n\n    .dataframe thead th {\n        text-align: right;\n    }\n</style>\n<table border=\"1\" class=\"dataframe\">\n  <thead>\n    <tr style=\"text-align: right;\">\n      <th></th>\n      <th>season</th>\n      <th>episode_number</th>\n      <th>title</th>\n      <th>airdate</th>\n      <th>rating</th>\n      <th>total_votes</th>\n      <th>desc</th>\n    </tr>\n  </thead>\n  <tbody>\n    <tr>\n      <th>0</th>\n      <td>1</td>\n      <td>1</td>\n      <td>Winter Is Coming</td>\n      <td>22 Aug. 2011</td>\n      <td>9.1</td>\n      <td>39455</td>\n      <td>Eddard Stark is torn between his family and an...</td>\n    </tr>\n    <tr>\n      <th>1</th>\n      <td>1</td>\n      <td>2</td>\n      <td>The Kingsroad</td>\n      <td>22 Aug. 2011</td>\n      <td>8.8</td>\n      <td>29932</td>\n      <td>While Bran recovers from his fall, Ned takes o...</td>\n    </tr>\n    <tr>\n      <th>2</th>\n      <td>1</td>\n      <td>3</td>\n      <td>Lord Snow</td>\n      <td>1 May 2011</td>\n      <td>8.7</td>\n      <td>28306</td>\n      <td>Jon begins his training with the Night's Watch...</td>\n    </tr>\n    <tr>\n      <th>3</th>\n      <td>1</td>\n      <td>4</td>\n      <td>Cripples, Bastards, and Broken Things</td>\n      <td>8 May 2011</td>\n      <td>8.8</td>\n      <td>26861</td>\n      <td>Eddard investigates Jon Arryn's murder. Jon be...</td>\n    </tr>\n    <tr>\n      <th>4</th>\n      <td>1</td>\n      <td>5</td>\n      <td>The Wolf and the Lion</td>\n      <td>15 May 2011</td>\n      <td>9.1</td>\n      <td>27945</td>\n      <td>Catelyn has captured Tyrion and plans to bring...</td>\n    </tr>\n  </tbody>\n</table>\n</div>"
     },
     "metadata": {},
     "execution_count": 16
    }
   ],
   "source": [
    "community_episodes['total_votes'] = community_episodes.total_votes.apply(remove_str).astype(int)\n",
    "\n",
    "# Checking if done successfully\n",
    "community_episodes.head()"
   ]
  },
  {
   "cell_type": "code",
   "execution_count": 17,
   "metadata": {},
   "outputs": [],
   "source": [
    "# Converting the rating column into numeric type as it was extracted as string.\n",
    "community_episodes['rating'] = community_episodes.rating.astype(float)"
   ]
  },
  {
   "cell_type": "code",
   "execution_count": 18,
   "metadata": {
    "tags": []
   },
   "outputs": [
    {
     "output_type": "stream",
     "name": "stdout",
     "text": "<class 'pandas.core.frame.DataFrame'>\nRangeIndex: 73 entries, 0 to 72\nData columns (total 7 columns):\n #   Column          Non-Null Count  Dtype         \n---  ------          --------------  -----         \n 0   season          73 non-null     int64         \n 1   episode_number  73 non-null     object        \n 2   title           73 non-null     object        \n 3   airdate         73 non-null     datetime64[ns]\n 4   rating          73 non-null     float64       \n 5   total_votes     73 non-null     int32         \n 6   desc            73 non-null     object        \ndtypes: datetime64[ns](1), float64(1), int32(1), int64(1), object(3)\nmemory usage: 3.8+ KB\n"
    }
   ],
   "source": [
    "# Manupulating the airdate column as real date and time format.\n",
    "community_episodes['airdate'] = pd.to_datetime(community_episodes.airdate)\n",
    "community_episodes.info()"
   ]
  },
  {
   "cell_type": "code",
   "execution_count": 19,
   "metadata": {},
   "outputs": [
    {
     "output_type": "execute_result",
     "data": {
      "text/plain": "   season episode_number                                  title    airdate  \\\n0       1              1                       Winter Is Coming 2011-08-22   \n1       1              2                          The Kingsroad 2011-08-22   \n2       1              3                              Lord Snow 2011-05-01   \n3       1              4  Cripples, Bastards, and Broken Things 2011-05-08   \n4       1              5                  The Wolf and the Lion 2011-05-15   \n\n   rating  total_votes                                               desc  \n0     9.1        39455  Eddard Stark is torn between his family and an...  \n1     8.8        29932  While Bran recovers from his fall, Ned takes o...  \n2     8.7        28306  Jon begins his training with the Night's Watch...  \n3     8.8        26861  Eddard investigates Jon Arryn's murder. Jon be...  \n4     9.1        27945  Catelyn has captured Tyrion and plans to bring...  ",
      "text/html": "<div>\n<style scoped>\n    .dataframe tbody tr th:only-of-type {\n        vertical-align: middle;\n    }\n\n    .dataframe tbody tr th {\n        vertical-align: top;\n    }\n\n    .dataframe thead th {\n        text-align: right;\n    }\n</style>\n<table border=\"1\" class=\"dataframe\">\n  <thead>\n    <tr style=\"text-align: right;\">\n      <th></th>\n      <th>season</th>\n      <th>episode_number</th>\n      <th>title</th>\n      <th>airdate</th>\n      <th>rating</th>\n      <th>total_votes</th>\n      <th>desc</th>\n    </tr>\n  </thead>\n  <tbody>\n    <tr>\n      <th>0</th>\n      <td>1</td>\n      <td>1</td>\n      <td>Winter Is Coming</td>\n      <td>2011-08-22</td>\n      <td>9.1</td>\n      <td>39455</td>\n      <td>Eddard Stark is torn between his family and an...</td>\n    </tr>\n    <tr>\n      <th>1</th>\n      <td>1</td>\n      <td>2</td>\n      <td>The Kingsroad</td>\n      <td>2011-08-22</td>\n      <td>8.8</td>\n      <td>29932</td>\n      <td>While Bran recovers from his fall, Ned takes o...</td>\n    </tr>\n    <tr>\n      <th>2</th>\n      <td>1</td>\n      <td>3</td>\n      <td>Lord Snow</td>\n      <td>2011-05-01</td>\n      <td>8.7</td>\n      <td>28306</td>\n      <td>Jon begins his training with the Night's Watch...</td>\n    </tr>\n    <tr>\n      <th>3</th>\n      <td>1</td>\n      <td>4</td>\n      <td>Cripples, Bastards, and Broken Things</td>\n      <td>2011-05-08</td>\n      <td>8.8</td>\n      <td>26861</td>\n      <td>Eddard investigates Jon Arryn's murder. Jon be...</td>\n    </tr>\n    <tr>\n      <th>4</th>\n      <td>1</td>\n      <td>5</td>\n      <td>The Wolf and the Lion</td>\n      <td>2011-05-15</td>\n      <td>9.1</td>\n      <td>27945</td>\n      <td>Catelyn has captured Tyrion and plans to bring...</td>\n    </tr>\n  </tbody>\n</table>\n</div>"
     },
     "metadata": {},
     "execution_count": 19
    }
   ],
   "source": [
    "community_episodes.head()"
   ]
  },
  {
   "cell_type": "code",
   "execution_count": 20,
   "metadata": {},
   "outputs": [],
   "source": [
    "# Finally, Converting the dataset into CSV file and save it.\n",
    "community_episodes.to_csv('Game_Of_Thrones_Episodes_IMDb_info.csv',index=False)\n"
   ]
  },
  {
   "cell_type": "code",
   "execution_count": 21,
   "metadata": {},
   "outputs": [],
   "source": [
    "# End of the script."
   ]
  }
 ]
}